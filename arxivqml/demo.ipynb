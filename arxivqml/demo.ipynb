{
 "cells": [
  {
   "cell_type": "markdown",
   "metadata": {},
   "source": [
    "# arXiv QML Curation Demo\n",
    "\n",
    "This notebook demonstrates how to use the `arxivqml` package to search for and curate papers."
   ]
  },
  {
   "cell_type": "markdown",
   "metadata": {},
   "source": [
    "## 1. Imports\n",
    "\n",
    "Import the main job runner and the database query functions."
   ]
  },
  {
   "cell_type": "code",
   "execution_count": 1,
   "metadata": {},
   "outputs": [],
   "source": [
    "from arxivqml.main import run_arxiv_search_job\n",
    "from arxivqml.database import get_db_collection, get_top_papers"
   ]
  },
  {
   "cell_type": "markdown",
   "metadata": {},
   "source": [
    "## 2. Run the Full Curation Job\n",
    "\n",
    "The following function will connect to the database and LLM, search for new papers across all configured categories, curate them, and save the results to MongoDB.\n",
    "\n",
    "**Note:** Make sure your `.env` file is configured with `MONGO_URI` and `GEMINI_API_KEY`."
   ]
  },
  {
   "cell_type": "code",
   "execution_count": null,
   "metadata": {},
   "outputs": [],
   "source": [
    "# Uncomment the line below to run the full job\n",
    "# run_arxiv_search_job()"
   ]
  },
  {
   "cell_type": "markdown",
   "metadata": {},
   "source": [
    "### 2.a) Full Curation Steps\n"
   ]
  },
  {
   "cell_type": "code",
   "execution_count": 1,
   "metadata": {},
   "outputs": [
    {
     "name": "stdout",
     "output_type": "stream",
     "text": [
      "\n",
      "--- Starting new arXiv search job at 2025-10-07 13:47:43.226362 ---\n",
      "✓ Successfully connected to MongoDB: arxiv_research.qml_papers\n",
      "✓ LLM initialized: models/gemini-2.0-flash-lite\n"
     ]
    },
    {
     "name": "stderr",
     "output_type": "stream",
     "text": [
      "WARNING: All log messages before absl::InitializeLog() is called are written to STDERR\n",
      "E0000 00:00:1759859263.260645 9594185 alts_credentials.cc:93] ALTS creds ignored. Not running on GCP and untrusted ALTS is not enabled.\n"
     ]
    }
   ],
   "source": [
    "from datetime import datetime\n",
    "from arxivqml import config\n",
    "from arxivqml import database\n",
    "from arxivqml import arxiv_search\n",
    "from arxivqml import curation\n",
    "\n",
    "print(f\"\\n--- Starting new arXiv search job at {datetime.now()} ---\")\n",
    "# 1. Initialize connections\n",
    "collection = database.get_db_collection()\n",
    "llm = curation.get_llm()"
   ]
  },
  {
   "cell_type": "code",
   "execution_count": null,
   "metadata": {},
   "outputs": [],
   "source": [
    "if not collection:\n",
    "    print(\"not collection\")\n",
    "else:\n",
    "    print(\"collection\")"
   ]
  },
  {
   "cell_type": "code",
   "execution_count": 4,
   "metadata": {},
   "outputs": [
    {
     "name": "stdout",
     "output_type": "stream",
     "text": [
      "Executing arXiv search in 'quant-ph' for query: 'ti:\"Quantum Machine Learning\" OR abs:\"Quantum Machine Learni...'\n",
      "Found 25 new papers.\n",
      "Scored 'Quantum Annealing for Minimum Bisection Problem: A Machine L...' -> 7/10\n",
      "Scored 'QUBO-based training for VQAs on Quantum Annealers...' -> 7/10\n",
      "Scored 'Investigation of D-Wave quantum annealing for training Restr...' -> 6/10\n",
      "Scored 'Comparison of D-Wave Quantum Annealing and Markov Chain Mont...' -> 6/10\n",
      "Scored 'Minor Embedding for Quantum Annealing with Reinforcement Lea...' -> 7/10\n",
      "Scored 'Quantum Annealing for Machine Learning: Applications in Feat...' -> 7/10\n",
      "Scored 'Quantum Annealing Algorithms for Estimating Ising Partition ...' -> 6/10\n",
      "Scored 'A quantum annealing approach to graph node embedding...' -> 8/10\n",
      "Scored 'Hyperspectral image segmentation with a machine learning mod...' -> 7/10\n",
      "Scored 'Quantum Annealing Feature Selection on Light-weight Medical ...' -> 7/10\n",
      "Scored 'Black-box optimization and quantum annealing for filtering o...' -> 7/10\n",
      "Scored 'Quantum Annealing for Robust Principal Component Analysis...' -> 7/10\n",
      "Scored 'Transfer Learning for Deep-Unfolded Combinatorial Optimizati...' -> 7/10\n",
      "Scored 'QAHAN: A Quantum Annealing Hard Attention Network...' -> 8/10\n",
      "Scored 'Quantum Annealing based Feature Selection in Machine Learnin...' -> 7/10\n",
      "Scored 'Analyzing the Effectiveness of Quantum Annealing with Meta-L...' -> 6/10\n",
      "Scored 'Protein Design by Integrating Machine Learning with Quantum ...' -> 6/10\n",
      "Scored 'Local Binary and Multiclass SVMs Trained on a Quantum Anneal...' -> 8/10\n",
      "Scored 'Association between Prefrontal fNIRS signals during Cognitiv...' -> 5/10\n",
      "Scored 'ILP-based Resource Optimization Realized by Quantum Annealin...' -> 7/10\n",
      "Scored 'FPGA-Placement via Quantum Annealing...' -> 7/10\n",
      "Scored 'Nonnegative/Binary Matrix Factorization for Image Classifica...' -> 7/10\n",
      "Scored 'Projected Stochastic Gradient Descent with Quantum Annealed ...' -> 8/10\n",
      "Scored 'Investigation of factors regarding the effects of COVID-19 p...' -> 7/10\n",
      "Scored 'Neural Networks for Programming Quantum Annealers...' -> 6/10\n"
     ]
    }
   ],
   "source": [
    "category = config.CATEGORIES[0]\n",
    "\n",
    "# Step 2a: Search arXiv for new papers\n",
    "new_papers = arxiv_search.search_arxiv(\n",
    "    category=category, \n",
    "    query=config.QUERY_STRING, \n",
    "    collection=collection\n",
    ")\n",
    "\n",
    "# Step 2b: Curate and score papers with LLM\n",
    "curated_papers = curation.curate_papers(\n",
    "    papers=new_papers, \n",
    "    guidance_context=config.GUIDANCE_CONTEXT, \n",
    "    llm=llm\n",
    ")\n"
   ]
  },
  {
   "cell_type": "code",
   "execution_count": 5,
   "metadata": {},
   "outputs": [
    {
     "name": "stdout",
     "output_type": "stream",
     "text": [
      "✓ Inserted: Quantum Annealing for Minimum Bisection Problem: A Machine L...\n",
      "✓ Inserted: QUBO-based training for VQAs on Quantum Annealers...\n",
      "✓ Inserted: Investigation of D-Wave quantum annealing for training Restr...\n",
      "✓ Inserted: Comparison of D-Wave Quantum Annealing and Markov Chain Mont...\n",
      "✓ Inserted: Minor Embedding for Quantum Annealing with Reinforcement Lea...\n",
      "✓ Inserted: Quantum Annealing for Machine Learning: Applications in Feat...\n",
      "✓ Inserted: Quantum Annealing Algorithms for Estimating Ising Partition ...\n",
      "✓ Inserted: A quantum annealing approach to graph node embedding...\n",
      "✓ Inserted: Hyperspectral image segmentation with a machine learning mod...\n",
      "✓ Inserted: Quantum Annealing Feature Selection on Light-weight Medical ...\n",
      "✓ Inserted: Black-box optimization and quantum annealing for filtering o...\n",
      "✓ Inserted: Quantum Annealing for Robust Principal Component Analysis...\n",
      "✓ Inserted: Transfer Learning for Deep-Unfolded Combinatorial Optimizati...\n",
      "✓ Inserted: QAHAN: A Quantum Annealing Hard Attention Network...\n",
      "✓ Inserted: Quantum Annealing based Feature Selection in Machine Learnin...\n",
      "✓ Inserted: Analyzing the Effectiveness of Quantum Annealing with Meta-L...\n",
      "✓ Inserted: Protein Design by Integrating Machine Learning with Quantum ...\n",
      "✓ Inserted: Local Binary and Multiclass SVMs Trained on a Quantum Anneal...\n",
      "✓ Inserted: Association between Prefrontal fNIRS signals during Cognitiv...\n",
      "✓ Inserted: ILP-based Resource Optimization Realized by Quantum Annealin...\n",
      "✓ Inserted: FPGA-Placement via Quantum Annealing...\n",
      "✓ Inserted: Nonnegative/Binary Matrix Factorization for Image Classifica...\n",
      "✓ Inserted: Projected Stochastic Gradient Descent with Quantum Annealed ...\n",
      "✓ Inserted: Investigation of factors regarding the effects of COVID-19 p...\n",
      "✓ Inserted: Neural Networks for Programming Quantum Annealers...\n",
      "\n",
      "Successfully inserted 25 new papers into MongoDB.\n"
     ]
    }
   ],
   "source": [
    "\n",
    "# Step 2c: Insert curated papers into the database\n",
    "if curated_papers:\n",
    "    database.insert_papers(collection, curated_papers)"
   ]
  },
  {
   "cell_type": "code",
   "execution_count": 6,
   "metadata": {},
   "outputs": [
    {
     "name": "stdout",
     "output_type": "stream",
     "text": [
      "\n",
      "--- Processing category: quant-ph ---\n",
      "Executing arXiv search in 'quant-ph' for query: 'ti:\"Quantum Machine Learning\" OR abs:\"Quantum Machine Learni...'\n",
      "Found 0 new papers.\n",
      "No new papers found for category 'quant-ph'.\n",
      "\n",
      "--- Processing category: cs.LG ---\n",
      "Executing arXiv search in 'cs.LG' for query: 'ti:\"Quantum Machine Learning\" OR abs:\"Quantum Machine Learni...'\n",
      "Found 9 new papers.\n",
      "Scored 'Evaluating the Performance of a D-Wave Quantum Annealing Sys...' -> 8/10\n",
      "Scored 'Optimization by Parallel Quasi-Quantum Annealing with Gradie...' -> 5/10\n",
      "Scored 'Quantum Annealing for Single Image Super-Resolution...' -> 7/10\n",
      "Scored 'Training Multilayer Perceptrons by Sampling with Quantum Ann...' -> 7/10\n",
      "Scored 'A Single-Step Multiclass SVM based on Quantum Annealing for ...' -> 8/10\n",
      "Scored 'An Advantage Using Feature Selection with a Quantum Annealer...' -> 7/10\n",
      "Scored 'Implementation of Trained Factorization Machine Recommendati...' -> 8/10\n",
      "Scored 'QuAnt: Quantum Annealing with Learnt Couplings...' -> 7/10\n",
      "Scored 'Towards Feature Selection for Ranking and Classification Exp...' -> 7/10\n",
      "✓ Inserted: Evaluating the Performance of a D-Wave Quantum Annealing Sys...\n",
      "✓ Inserted: Optimization by Parallel Quasi-Quantum Annealing with Gradie...\n",
      "✓ Inserted: Quantum Annealing for Single Image Super-Resolution...\n",
      "✓ Inserted: Training Multilayer Perceptrons by Sampling with Quantum Ann...\n",
      "✓ Inserted: A Single-Step Multiclass SVM based on Quantum Annealing for ...\n",
      "✓ Inserted: An Advantage Using Feature Selection with a Quantum Annealer...\n",
      "✓ Inserted: Implementation of Trained Factorization Machine Recommendati...\n",
      "✓ Inserted: QuAnt: Quantum Annealing with Learnt Couplings...\n",
      "✓ Inserted: Towards Feature Selection for Ranking and Classification Exp...\n",
      "\n",
      "Successfully inserted 9 new papers into MongoDB.\n",
      "\n",
      "--- Processing category: cs.AI ---\n",
      "Executing arXiv search in 'cs.AI' for query: 'ti:\"Quantum Machine Learning\" OR abs:\"Quantum Machine Learni...'\n",
      "Found 2 new papers.\n",
      "Scored 'Reinforcement Quantum Annealing: A Quantum-Assisted Learning...' -> 8/10\n",
      "Scored 'Quantum Annealing for Clustering...' -> 6/10\n",
      "✓ Inserted: Reinforcement Quantum Annealing: A Quantum-Assisted Learning...\n",
      "✓ Inserted: Quantum Annealing for Clustering...\n",
      "\n",
      "Successfully inserted 2 new papers into MongoDB.\n",
      "\n",
      "--- Processing category: cond-mat.dis-nn ---\n",
      "Executing arXiv search in 'cond-mat.dis-nn' for query: 'ti:\"Quantum Machine Learning\" OR abs:\"Quantum Machine Learni...'\n",
      "Found 10 new papers.\n",
      "Scored 'Statistical Mechanics Calculations Using Variational Autoreg...' -> 6/10\n",
      "Scored 'Quantum Image Denoising: A Framework via Boltzmann Machines,...' -> 7/10\n",
      "Scored 'Kernel Learning by quantum annealer...' -> 4/10\n",
      "Scored 'Assessment of image generation by quantum annealer...' -> 7/10\n",
      "Scored 'Message-passing algorithm of quantum annealing with nonstoqu...' -> 4/10\n",
      "Scored 'Enhancing the efficiency of quantum annealing via reinforcem...' -> 4/10\n",
      "Scored 'Quantum Monte Carlo simulation of a particular class of non-...' -> 3/10\n",
      "Scored 'Quantum Annealing for Dirichlet Process Mixture Models with ...' -> 6/10\n",
      "Scored 'Quantum Annealing for Variational Bayes Inference...' -> 4/10\n",
      "Scored 'Quantum Annealing for Clustering...' -> 6/10\n",
      "✓ Inserted: Statistical Mechanics Calculations Using Variational Autoreg...\n",
      "✓ Inserted: Quantum Image Denoising: A Framework via Boltzmann Machines,...\n",
      "✓ Inserted: Kernel Learning by quantum annealer...\n",
      "✓ Inserted: Assessment of image generation by quantum annealer...\n",
      "✓ Inserted: Message-passing algorithm of quantum annealing with nonstoqu...\n",
      "✓ Inserted: Enhancing the efficiency of quantum annealing via reinforcem...\n",
      "✓ Inserted: Quantum Monte Carlo simulation of a particular class of non-...\n",
      "✓ Inserted: Quantum Annealing for Dirichlet Process Mixture Models with ...\n",
      "✓ Inserted: Quantum Annealing for Variational Bayes Inference...\n",
      "✓ Inserted: Quantum Annealing for Clustering...\n",
      "\n",
      "Successfully inserted 10 new papers into MongoDB.\n",
      "\n",
      "--- Processing category: math-ph ---\n",
      "Executing arXiv search in 'math-ph' for query: 'ti:\"Quantum Machine Learning\" OR abs:\"Quantum Machine Learni...'\n",
      "Found 0 new papers.\n",
      "No new papers found for category 'math-ph'.\n",
      "\n",
      "--- Job finished at 2025-10-06 22:43:21.112441 ---\n"
     ]
    }
   ],
   "source": [
    "# 2. Loop through categories and process papers\n",
    "for category in config.CATEGORIES:\n",
    "    print(f\"\\n--- Processing category: {category} ---\")\n",
    "\n",
    "    # Step 2a: Search arXiv for new papers\n",
    "    new_papers = arxiv_search.search_arxiv(\n",
    "        category=category, \n",
    "        query=config.QUERY_STRING, \n",
    "        collection=collection\n",
    "    )\n",
    "\n",
    "    if not new_papers:\n",
    "        print(f\"No new papers found for category '{category}'.\")\n",
    "        continue\n",
    "\n",
    "    # Step 2b: Curate and score papers with LLM\n",
    "    curated_papers = curation.curate_papers(\n",
    "        papers=new_papers, \n",
    "        guidance_context=config.GUIDANCE_CONTEXT, \n",
    "        llm=llm\n",
    "    )\n",
    "\n",
    "    # Step 2c: Insert curated papers into the database\n",
    "    if curated_papers:\n",
    "        database.insert_papers(collection, curated_papers)\n",
    "\n",
    "print(f\"\\n--- Job finished at {datetime.now()} ---\")\n",
    "\n"
   ]
  },
  {
   "cell_type": "markdown",
   "metadata": {},
   "source": [
    "## 3. Query Existing Papers from the Database\n",
    "\n",
    "You can also use the package to directly query the results stored in your database."
   ]
  },
  {
   "cell_type": "code",
   "execution_count": null,
   "metadata": {},
   "outputs": [],
   "source": [
    "# 1. Get the database collection\n",
    "collection = get_db_collection()\n",
    "\n",
    "if collection is not None:\n",
    "    # 2. Query the top 5 papers by relevance score\n",
    "    top_papers = get_top_papers(collection, limit=5)\n",
    "    total_papers = collection.count_documents({})\n",
    "    \n",
    "    print(f\"Total papers in database: {total_papers}\")\n",
    "    print(\"--- Top Papers ---\")\n",
    "    \n",
    "    # 3. Display the results\n",
    "    for i, paper in enumerate(top_papers, 1):\n",
    "        print(f\"{i}. {paper['title']}\")\n",
    "        print(f\"  Score: {paper.get('relevance_score', 'N/A')}/10\")\n",
    "        print(f\"  Keywords: {', '.join(paper.get('keywords', []))}\")\n",
    "        print(f\"  PDF: {paper['pdf_url']}\")\n",
    "        print(\"---\")"
   ]
  }
 ],
 "metadata": {
  "kernelspec": {
   "display_name": "arxiv",
   "language": "python",
   "name": "python3"
  },
  "language_info": {
   "codemirror_mode": {
    "name": "ipython",
    "version": 3
   },
   "file_extension": ".py",
   "mimetype": "text/x-python",
   "name": "python",
   "nbconvert_exporter": "python",
   "pygments_lexer": "ipython3",
   "version": "3.12.11"
  }
 },
 "nbformat": 4,
 "nbformat_minor": 4
}
